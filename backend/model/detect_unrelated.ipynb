{
 "cells": [
  {
   "cell_type": "code",
   "execution_count": null,
   "metadata": {
    "scrolled": true
   },
   "outputs": [],
   "source": [
    "import re\n",
    "import string\n",
    "from tqdm import tqdm\n",
    "import numpy as np\n",
    "import pandas as pd\n",
    "from nltk.corpus import stopwords\n",
    "\n",
    "stopwords_set = set(stopwords.words('english'))\n",
    "\n",
    "def tokenize(document):\n",
    "    tokens = [token.lower() for token in document.split()]\n",
    "    punc_patt = re.compile(rf'[{string.punctuation}]')\n",
    "    tokens = [punc_patt.sub('',token) for token in tokens]\n",
    "    tokens = [token for token in tokens if not token in stopwords_set]\n",
    "    return tokens\n",
    "\n",
    "def get_similarity(headline,body):\n",
    "    headline_tokens = set(tokenize(headline))\n",
    "    bodies_token = set(tokenize(body))\n",
    "    intersec = headline_tokens.intersection(bodies_token)\n",
    "    return len(intersec)\n",
    "                           \n",
    "\n",
    "def process_data(bodies_path,stances_path,folder_prefix=\"fnc-1\"):\n",
    "    complete_bodies_path = '/'.join((folder_prefix,bodies_path))\n",
    "    complete_stances_path = '/'.join((folder_prefix,stances_path))\n",
    "    \n",
    "    df_bodies = pd.read_csv(complete_bodies_path)\n",
    "    df_stances = pd.read_csv(complete_stances_path)\n",
    "    df_all = pd.merge(df_stances,df_bodies,on =\"Body ID\")\n",
    "    \n",
    "    X = []\n",
    "    Y = [0 if stance == \"unrelated\" else 1 for stance in df_all[\"Stance\"] ]\n",
    "    for headline, body_id, stance, articleBody in tqdm(df_all.values):\n",
    "        similarity = get_similarity(headline,articleBody)\n",
    "        X.append(similarity)\n",
    "    return np.array(X).reshape(-1,1), np.array(Y)\n",
    "\n",
    "X_train, Y_train = process_data('train_bodies.csv','train_stances.csv')\n",
    "X_test, Y_test = process_data('competition_test_bodies.csv','competition_test_stances.csv')\n",
    "\n"
   ]
  },
  {
   "cell_type": "code",
   "execution_count": 81,
   "metadata": {
    "scrolled": true
   },
   "outputs": [
    {
     "name": "stdout",
     "output_type": "stream",
     "text": [
      "Decision Tree\n",
      "Test : 0.9403454924644867\n",
      "Train : 0.9410870087248859\n",
      "==================================================\n",
      "Logistic Regression\n",
      "Test : 0.9403454924644867\n",
      "Train : 0.9410870087248859\n",
      "==================================================\n",
      "Naive Bayes\n",
      "Test : 0.7220320308503522\n",
      "Train : 0.7313095333386697\n",
      "==================================================\n",
      "LDA\n",
      "Test : 0.9098492897336009\n",
      "Train : 0.9205354998799328\n",
      "==================================================\n",
      "Kneighbors\n",
      "Test : 0.9098492897336009\n",
      "Train : 0.9205354998799328\n",
      "==================================================\n"
     ]
    }
   ],
   "source": [
    "from sklearn.tree import DecisionTreeClassifier\n",
    "from sklearn.neighbors import KNeighborsClassifier\n",
    "from sklearn.linear_model import LogisticRegression\n",
    "from sklearn.naive_bayes import MultinomialNB\n",
    "from sklearn.discriminant_analysis import LinearDiscriminantAnalysis\n",
    "\n",
    "algorithms = [\n",
    "    (\"Decision Tree\",DecisionTreeClassifier()),\n",
    "    (\"Logistic Regression\",LogisticRegression(solver=\"lbfgs\")),\n",
    "    (\"Naive Bayes\",MultinomialNB()),\n",
    "    (\"LDA\",LinearDiscriminantAnalysis()),\n",
    "    (\"Kneighbors\",KNeighborsClassifier(3))\n",
    "]\n",
    "\n",
    "for name,algorithm in algorithms:\n",
    "    algorithm.fit(X_train,Y_train)\n",
    "    print(name)\n",
    "    accuracy_test = accuracy_score(Y_test,algorithm.predict(X_test))\n",
    "    accuracy_train = accuracy_score(Y_train,algorithm.predict(X_train))\n",
    "    \n",
    "    print(f\"Test : {accuracy_test}\")\n",
    "    print(f\"Train : {accuracy_train}\")\n",
    "    print(\"=\"*50)"
   ]
  },
  {
   "cell_type": "markdown",
   "metadata": {},
   "source": [
    "### PR Curve\n",
    "\n",
    "For our model , we would like to have a high precision model, because it is more costly to missclasify an article as related if it was actually unrelated then the inverse. So we're aiming for around ~ 98"
   ]
  },
  {
   "cell_type": "code",
   "execution_count": 82,
   "metadata": {
    "scrolled": false
   },
   "outputs": [
    {
     "name": "stdout",
     "output_type": "stream",
     "text": [
      "(0.9182237559109696, 0.9747364233141038, 0.6936579841449604)\n"
     ]
    },
    {
     "data": {
      "image/png": "[encoded data removed]",
      "text/plain": [
       "<Figure size 432x288 with 1 Axes>"
      ]
     },
     "metadata": {
      "needs_background": "light"
     },
     "output_type": "display_data"
    }
   ],
   "source": [
    "import matplotlib.pyplot as plt\n",
    "log_reg = LogisticRegression(solver=\"lbfgs\")\n",
    "log_reg.fit(X_train,Y_train)\n",
    "\n",
    "def find_matching_point(thresholds,precisions,recalls,desired_precision):\n",
    "    for threshold,precision, recall in zip(thresholds,precisions,recalls):\n",
    "        if precision > desired_precision:\n",
    "            return (threshold,precision,recall)\n",
    "\n",
    "preds = log_reg.predict_proba(X_test)[:,1]\n",
    "\n",
    "precisions, recalls, thresholds = precision_recall_curve(Y_test,preds)\n",
    "plt.plot(recalls,precisions,label=\"Lr curve\")\n",
    "plt.legend()\n",
    "\n",
    "\n",
    "plt.xlabel(\"Recall\")\n",
    "plt.ylabel(\"Precision\")\n",
    "plt.title(\"PR curve\")\n",
    "print(find_matching_point(thresholds,precisions,recalls,0.97))\n",
    "plt.show()"
   ]
  },
  {
   "cell_type": "code",
   "execution_count": 76,
   "metadata": {
    "collapsed": true,
    "scrolled": true
   },
   "outputs": [
    {
     "name": "stdout",
     "output_type": "stream",
     "text": [
      "DONE\n"
     ]
    }
   ],
   "source": [
    "import pickle\n",
    "with open(\"log_reg.pickle\",\"wb\") as f:\n",
    "    pickle.dump(log_reg,f)\n",
    "threshold,*_ = find_matching_point(thresholds,precisions,recalls,desired_precision=0.97)\n",
    "with open(\"threshold.txt\",\"w\") as f:\n",
    "    f.write(str(threshold))\n",
    "print(\"DONE\")"
   ]
  }
 ],
 "metadata": {
  "kernelspec": {
   "display_name": "Python 3",
   "language": "python",
   "name": "python3"
  },
  "language_info": {
   "codemirror_mode": {
    "name": "ipython",
    "version": 3
   },
   "file_extension": ".py",
   "mimetype": "text/x-python",
   "name": "python",
   "nbconvert_exporter": "python",
   "pygments_lexer": "ipython3",
   "version": "3.7.3"
  }
 },
 "nbformat": 4,
 "nbformat_minor": 2
}
